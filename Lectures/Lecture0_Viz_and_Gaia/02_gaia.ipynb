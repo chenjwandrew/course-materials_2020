{
 "cells": [
  {
   "cell_type": "markdown",
   "metadata": {},
   "source": [
    "## Astrometry\n",
    "\n",
    "<img src=\"http://www.faculty.virginia.edu/ASTR5610/lectures/VELOCITIES/parallax.gif\">\n",
    "\n",
    "$$tan(\\pi) \\sim \\pi({\\rm radians}) = r / d$$\n",
    "\n",
    "$$d = 206265/\\pi(^{\\prime \\prime}) {\\rm A.U.}$$\n",
    "\n",
    "$$d({\\rm parsec}) = 1/\\pi(^{\\prime \\prime})$$\n",
    "\n",
    "Figures and text from: http://www.faculty.virginia.edu/ASTR5610/lectures/VELOCITIES/velocities.html"
   ]
  },
  {
   "cell_type": "markdown",
   "metadata": {},
   "source": [
    "## Gaia\n",
    "\n",
    "\n",
    "### Mission Objectives of Gaia:\n",
    "\n",
    "- measure the positions of ~1 billion stars both in our Galaxy and other members of the Local Group, with an accuracy down to 24 microarcseconds for stars to V = 15 and to 0.5 milliarcsec for stars to V = 20; perform spectral and photometric measurements of these objects;\n",
    "- derive space velocities of the Galaxy's constituent stars using the stellar distances and motions;\n",
    "- create a three-dimensional structural map of the Galaxy.\n",
    "\n",
    "<img src=\"data/gaia_0.png\" width=\"80%\">\n",
    "\n",
    "See \"Gaia Data Release 2: Using Gaia parallaxes\": A&A Volume 616, July 2018 [[link]](https://www.aanda.org/articles/aa/abs/2018/08/aa32964-18/aa32964-18.html)\n",
    "\n",
    "### Instruments \n",
    "\n",
    "- The Astrometric instrument (ASTRO) is devoted to star angular position measurements, providing the five astrometric parameters:\n",
    "    - Star position (2 angles)\n",
    "    - Proper motion (2 time derivatives of position)\n",
    "    - Parallax (distance)\n",
    "\n",
    "- **The Photometric instrument** provides very low resolution (30 to 270 Angstroms/pixel) star spectra (sufficient to judge the spectral energy distribution, \"SED\") to derive estimates of stellar parameters (like temperature, metallicity) in the band 320-1000 nm and the ASTRO chromaticity calibration.\n",
    "\n",
    "- The **Radial Velocity Spectrometer (RVS)** provides radial velocity and medium resolution (R ~ 11,500) spectral data in the narrow band 847-874 nm, for stars to about 16th magnitude (~150 million stars) and astrophysical information (reddening, atmospheric parameters, rotational velocities) for stars to 12th mag (~5 million stars), and elemental abundances to about 11th mag (~2 million stars)."
   ]
  },
  {
   "cell_type": "markdown",
   "metadata": {},
   "source": [
    "### Scanning and Data Taking\n",
    "\n",
    "<img src=\"https://www.cosmos.esa.int/documents/29201/29222/IN_scanning_law.jpg/7b050aa8-e556-41b1-ad7e-76583316931c?t=1384527784317\" width=\"80%\">"
   ]
  },
  {
   "cell_type": "code",
   "execution_count": 1,
   "metadata": {},
   "outputs": [
    {
     "data": {
      "text/html": [
       "<video width=\"500\" height=\"300\"controls>\n",
       "<source src=\"https://www.cosmos.esa.int/documents/29201/304590/Gaia_scanLaw_movie.mov\" \n",
       "type=\"video/mov\" /> </video>"
      ],
      "text/plain": [
       "<IPython.core.display.HTML object>"
      ]
     },
     "execution_count": 1,
     "metadata": {},
     "output_type": "execute_result"
    }
   ],
   "source": [
    "from IPython.display import HTML\n",
    "\n",
    "HTML(data='''<video width=\"500\" height=\"300\"controls>\n",
    "<source src=\"https://www.cosmos.esa.int/documents/29201/304590/Gaia_scanLaw_movie.mov\" \n",
    "type=\"video/mov\" /> </video>''')\n"
   ]
  },
  {
   "cell_type": "markdown",
   "metadata": {},
   "source": [
    "<img src=\"data/gaia_1.png\">"
   ]
  },
  {
   "cell_type": "markdown",
   "metadata": {},
   "source": [
    "<img src=\"data/gaia_2.png\">"
   ]
  },
  {
   "cell_type": "markdown",
   "metadata": {},
   "source": [
    "<img src=\"data/gaia_3.png\">"
   ]
  },
  {
   "cell_type": "markdown",
   "metadata": {},
   "source": [
    "<img src=\"data/gaia_4.png\">"
   ]
  },
  {
   "cell_type": "markdown",
   "metadata": {},
   "source": [
    "### Interactive Tutorials with Gaia data\n",
    "\n",
    "https://github.com/agabrown/astrometry-inference-tutorials"
   ]
  },
  {
   "cell_type": "code",
   "execution_count": null,
   "metadata": {},
   "outputs": [],
   "source": []
  }
 ],
 "metadata": {
  "kernelspec": {
   "display_name": "Python 3",
   "language": "python",
   "name": "python3"
  },
  "language_info": {
   "codemirror_mode": {
    "name": "ipython",
    "version": 3
   },
   "file_extension": ".py",
   "mimetype": "text/x-python",
   "name": "python",
   "nbconvert_exporter": "python",
   "pygments_lexer": "ipython3",
   "version": "3.6.9"
  }
 },
 "nbformat": 4,
 "nbformat_minor": 2
}
